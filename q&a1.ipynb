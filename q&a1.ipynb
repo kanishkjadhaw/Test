{
 "cells": [
  {
   "cell_type": "code",
   "execution_count": 5,
   "id": "f2c036ea",
   "metadata": {},
   "outputs": [],
   "source": [
    "def mySqrt(x):\n",
    "    if x == 0:\n",
    "        return 0\n",
    "\n",
    "    left = 1\n",
    "    right = x\n",
    "\n",
    "    while left <= right:\n",
    "        mid = left + (right - left) // 2\n",
    "        if mid * mid == x:\n",
    "            return mid\n",
    "        elif mid * mid > x:\n",
    "            right = mid - 1\n",
    "        else:\n",
    "            left = mid + 1\n",
    "\n",
    "    return right"
   ]
  },
  {
   "cell_type": "code",
   "execution_count": 9,
   "id": "48697258",
   "metadata": {},
   "outputs": [
    {
     "data": {
      "text/plain": [
       "2"
      ]
     },
     "execution_count": 9,
     "metadata": {},
     "output_type": "execute_result"
    }
   ],
   "source": [
    "mySqrt(4)"
   ]
  }
 ],
 "metadata": {
  "kernelspec": {
   "display_name": "Python 3 (ipykernel)",
   "language": "python",
   "name": "python3"
  },
  "language_info": {
   "codemirror_mode": {
    "name": "ipython",
    "version": 3
   },
   "file_extension": ".py",
   "mimetype": "text/x-python",
   "name": "python",
   "nbconvert_exporter": "python",
   "pygments_lexer": "ipython3",
   "version": "3.9.12"
  }
 },
 "nbformat": 4,
 "nbformat_minor": 5
}
